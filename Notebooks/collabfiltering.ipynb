{
  "nbformat": 4,
  "nbformat_minor": 0,
  "metadata": {
    "colab": {
      "name": "11/15 (CS 196) IMDB Reviews",
      "provenance": [],
      "collapsed_sections": []
    },
    "kernelspec": {
      "name": "python3",
      "display_name": "Python 3"
    },
    "accelerator": "GPU"
  },
  "cells": [
    {
      "cell_type": "code",
      "metadata": {
        "id": "C2dhmEsB4sYz",
        "colab": {
          "base_uri": "https://localhost:8080/"
        },
        "outputId": "637eaae0-f02f-472e-ce6b-43ebdc41b6f7"
      },
      "source": [
        "! pip install -Uqq fastbook\n",
        "import fastbook\n",
        "fastbook.setup_book()"
      ],
      "execution_count": null,
      "outputs": [
        {
          "output_type": "stream",
          "text": [
            "\u001b[?25l\r\u001b[K     |▌                               | 10kB 24.7MB/s eta 0:00:01\r\u001b[K     |█                               | 20kB 30.4MB/s eta 0:00:01\r\u001b[K     |█▍                              | 30kB 22.9MB/s eta 0:00:01\r\u001b[K     |█▉                              | 40kB 20.7MB/s eta 0:00:01\r\u001b[K     |██▎                             | 51kB 20.8MB/s eta 0:00:01\r\u001b[K     |██▊                             | 61kB 15.6MB/s eta 0:00:01\r\u001b[K     |███▏                            | 71kB 15.6MB/s eta 0:00:01\r\u001b[K     |███▋                            | 81kB 15.2MB/s eta 0:00:01\r\u001b[K     |████                            | 92kB 14.7MB/s eta 0:00:01\r\u001b[K     |████▌                           | 102kB 15.0MB/s eta 0:00:01\r\u001b[K     |█████                           | 112kB 15.0MB/s eta 0:00:01\r\u001b[K     |█████▌                          | 122kB 15.0MB/s eta 0:00:01\r\u001b[K     |██████                          | 133kB 15.0MB/s eta 0:00:01\r\u001b[K     |██████▍                         | 143kB 15.0MB/s eta 0:00:01\r\u001b[K     |██████▉                         | 153kB 15.0MB/s eta 0:00:01\r\u001b[K     |███████▎                        | 163kB 15.0MB/s eta 0:00:01\r\u001b[K     |███████▊                        | 174kB 15.0MB/s eta 0:00:01\r\u001b[K     |████████▏                       | 184kB 15.0MB/s eta 0:00:01\r\u001b[K     |████████▋                       | 194kB 15.0MB/s eta 0:00:01\r\u001b[K     |█████████                       | 204kB 15.0MB/s eta 0:00:01\r\u001b[K     |█████████▋                      | 215kB 15.0MB/s eta 0:00:01\r\u001b[K     |██████████                      | 225kB 15.0MB/s eta 0:00:01\r\u001b[K     |██████████▌                     | 235kB 15.0MB/s eta 0:00:01\r\u001b[K     |███████████                     | 245kB 15.0MB/s eta 0:00:01\r\u001b[K     |███████████▍                    | 256kB 15.0MB/s eta 0:00:01\r\u001b[K     |███████████▉                    | 266kB 15.0MB/s eta 0:00:01\r\u001b[K     |████████████▎                   | 276kB 15.0MB/s eta 0:00:01\r\u001b[K     |████████████▊                   | 286kB 15.0MB/s eta 0:00:01\r\u001b[K     |█████████████▏                  | 296kB 15.0MB/s eta 0:00:01\r\u001b[K     |█████████████▋                  | 307kB 15.0MB/s eta 0:00:01\r\u001b[K     |██████████████▏                 | 317kB 15.0MB/s eta 0:00:01\r\u001b[K     |██████████████▋                 | 327kB 15.0MB/s eta 0:00:01\r\u001b[K     |███████████████                 | 337kB 15.0MB/s eta 0:00:01\r\u001b[K     |███████████████▌                | 348kB 15.0MB/s eta 0:00:01\r\u001b[K     |████████████████                | 358kB 15.0MB/s eta 0:00:01\r\u001b[K     |████████████████▍               | 368kB 15.0MB/s eta 0:00:01\r\u001b[K     |████████████████▉               | 378kB 15.0MB/s eta 0:00:01\r\u001b[K     |█████████████████▎              | 389kB 15.0MB/s eta 0:00:01\r\u001b[K     |█████████████████▊              | 399kB 15.0MB/s eta 0:00:01\r\u001b[K     |██████████████████▏             | 409kB 15.0MB/s eta 0:00:01\r\u001b[K     |██████████████████▊             | 419kB 15.0MB/s eta 0:00:01\r\u001b[K     |███████████████████▏            | 430kB 15.0MB/s eta 0:00:01\r\u001b[K     |███████████████████▋            | 440kB 15.0MB/s eta 0:00:01\r\u001b[K     |████████████████████            | 450kB 15.0MB/s eta 0:00:01\r\u001b[K     |████████████████████▌           | 460kB 15.0MB/s eta 0:00:01\r\u001b[K     |█████████████████████           | 471kB 15.0MB/s eta 0:00:01\r\u001b[K     |█████████████████████▍          | 481kB 15.0MB/s eta 0:00:01\r\u001b[K     |█████████████████████▉          | 491kB 15.0MB/s eta 0:00:01\r\u001b[K     |██████████████████████▎         | 501kB 15.0MB/s eta 0:00:01\r\u001b[K     |██████████████████████▊         | 512kB 15.0MB/s eta 0:00:01\r\u001b[K     |███████████████████████▏        | 522kB 15.0MB/s eta 0:00:01\r\u001b[K     |███████████████████████▊        | 532kB 15.0MB/s eta 0:00:01\r\u001b[K     |████████████████████████▏       | 542kB 15.0MB/s eta 0:00:01\r\u001b[K     |████████████████████████▋       | 552kB 15.0MB/s eta 0:00:01\r\u001b[K     |█████████████████████████       | 563kB 15.0MB/s eta 0:00:01\r\u001b[K     |█████████████████████████▌      | 573kB 15.0MB/s eta 0:00:01\r\u001b[K     |██████████████████████████      | 583kB 15.0MB/s eta 0:00:01\r\u001b[K     |██████████████████████████▍     | 593kB 15.0MB/s eta 0:00:01\r\u001b[K     |██████████████████████████▉     | 604kB 15.0MB/s eta 0:00:01\r\u001b[K     |███████████████████████████▎    | 614kB 15.0MB/s eta 0:00:01\r\u001b[K     |███████████████████████████▊    | 624kB 15.0MB/s eta 0:00:01\r\u001b[K     |████████████████████████████▎   | 634kB 15.0MB/s eta 0:00:01\r\u001b[K     |████████████████████████████▊   | 645kB 15.0MB/s eta 0:00:01\r\u001b[K     |█████████████████████████████▏  | 655kB 15.0MB/s eta 0:00:01\r\u001b[K     |█████████████████████████████▋  | 665kB 15.0MB/s eta 0:00:01\r\u001b[K     |██████████████████████████████  | 675kB 15.0MB/s eta 0:00:01\r\u001b[K     |██████████████████████████████▌ | 686kB 15.0MB/s eta 0:00:01\r\u001b[K     |███████████████████████████████ | 696kB 15.0MB/s eta 0:00:01\r\u001b[K     |███████████████████████████████▍| 706kB 15.0MB/s eta 0:00:01\r\u001b[K     |███████████████████████████████▉| 716kB 15.0MB/s eta 0:00:01\r\u001b[K     |████████████████████████████████| 727kB 15.0MB/s \n",
            "\u001b[K     |████████████████████████████████| 51kB 8.6MB/s \n",
            "\u001b[K     |████████████████████████████████| 51kB 9.1MB/s \n",
            "\u001b[K     |████████████████████████████████| 1.1MB 42.8MB/s \n",
            "\u001b[K     |████████████████████████████████| 194kB 55.8MB/s \n",
            "\u001b[K     |████████████████████████████████| 51kB 8.3MB/s \n",
            "\u001b[K     |████████████████████████████████| 40kB 6.9MB/s \n",
            "\u001b[K     |████████████████████████████████| 92kB 12.6MB/s \n",
            "\u001b[K     |████████████████████████████████| 61kB 9.9MB/s \n",
            "\u001b[K     |████████████████████████████████| 51kB 7.0MB/s \n",
            "\u001b[K     |████████████████████████████████| 2.6MB 54.1MB/s \n",
            "\u001b[?25hMounted at /content/gdrive\n"
          ],
          "name": "stdout"
        }
      ]
    },
    {
      "cell_type": "code",
      "metadata": {
        "id": "-VRNF_UP50RW"
      },
      "source": [
        "import fastai\n",
        "from fastai.tabular.all import *\n",
        "from fastai.collab import *\n",
        "import pandas as pd"
      ],
      "execution_count": null,
      "outputs": []
    },
    {
      "cell_type": "code",
      "metadata": {
        "id": "z0PeHPheGo5F"
      },
      "source": [
        "\n",
        "#genre \n",
        "df = pd.read_csv('ratings_small.csv')"
      ],
      "execution_count": null,
      "outputs": []
    },
    {
      "cell_type": "code",
      "metadata": {
        "id": "lZ2ywAMTcYiJ",
        "colab": {
          "base_uri": "https://localhost:8080/",
          "height": 204
        },
        "outputId": "02e01480-dac6-4607-9a8f-0283c6d321e6"
      },
      "source": [
        "df.head()"
      ],
      "execution_count": null,
      "outputs": [
        {
          "output_type": "execute_result",
          "data": {
            "text/html": [
              "<div>\n",
              "<style scoped>\n",
              "    .dataframe tbody tr th:only-of-type {\n",
              "        vertical-align: middle;\n",
              "    }\n",
              "\n",
              "    .dataframe tbody tr th {\n",
              "        vertical-align: top;\n",
              "    }\n",
              "\n",
              "    .dataframe thead th {\n",
              "        text-align: right;\n",
              "    }\n",
              "</style>\n",
              "<table border=\"1\" class=\"dataframe\">\n",
              "  <thead>\n",
              "    <tr style=\"text-align: right;\">\n",
              "      <th></th>\n",
              "      <th>userId</th>\n",
              "      <th>movieId</th>\n",
              "      <th>rating</th>\n",
              "      <th>timestamp</th>\n",
              "    </tr>\n",
              "  </thead>\n",
              "  <tbody>\n",
              "    <tr>\n",
              "      <th>0</th>\n",
              "      <td>1</td>\n",
              "      <td>110</td>\n",
              "      <td>1.0</td>\n",
              "      <td>1.425942e+09</td>\n",
              "    </tr>\n",
              "    <tr>\n",
              "      <th>1</th>\n",
              "      <td>1</td>\n",
              "      <td>147</td>\n",
              "      <td>4.5</td>\n",
              "      <td>1.425942e+09</td>\n",
              "    </tr>\n",
              "    <tr>\n",
              "      <th>2</th>\n",
              "      <td>1</td>\n",
              "      <td>858</td>\n",
              "      <td>5.0</td>\n",
              "      <td>1.425942e+09</td>\n",
              "    </tr>\n",
              "    <tr>\n",
              "      <th>3</th>\n",
              "      <td>1</td>\n",
              "      <td>1221</td>\n",
              "      <td>5.0</td>\n",
              "      <td>1.425942e+09</td>\n",
              "    </tr>\n",
              "    <tr>\n",
              "      <th>4</th>\n",
              "      <td>1</td>\n",
              "      <td>1246</td>\n",
              "      <td>5.0</td>\n",
              "      <td>1.425942e+09</td>\n",
              "    </tr>\n",
              "  </tbody>\n",
              "</table>\n",
              "</div>"
            ],
            "text/plain": [
              "   userId  movieId  rating     timestamp\n",
              "0       1      110     1.0  1.425942e+09\n",
              "1       1      147     4.5  1.425942e+09\n",
              "2       1      858     5.0  1.425942e+09\n",
              "3       1     1221     5.0  1.425942e+09\n",
              "4       1     1246     5.0  1.425942e+09"
            ]
          },
          "metadata": {
            "tags": []
          },
          "execution_count": 20
        }
      ]
    },
    {
      "cell_type": "code",
      "metadata": {
        "id": "72R5k7Rs54SE"
      },
      "source": [
        "dls = CollabDataLoaders.from_df(df, valid_pct=0.2)\n"
      ],
      "execution_count": null,
      "outputs": []
    },
    {
      "cell_type": "code",
      "metadata": {
        "id": "VmqhAhghI7wi"
      },
      "source": [
        "learn = collab_learner(dls)"
      ],
      "execution_count": null,
      "outputs": []
    },
    {
      "cell_type": "code",
      "metadata": {
        "id": "_qgMp-xLQta3",
        "colab": {
          "base_uri": "https://localhost:8080/",
          "height": 1000
        },
        "outputId": "036cf327-522b-41e5-d2ba-0bfc94ac2cef"
      },
      "source": [
        "learn.fine_tune(100)"
      ],
      "execution_count": null,
      "outputs": [
        {
          "output_type": "display_data",
          "data": {
            "text/html": [
              "<table border=\"1\" class=\"dataframe\">\n",
              "  <thead>\n",
              "    <tr style=\"text-align: left;\">\n",
              "      <th>epoch</th>\n",
              "      <th>train_loss</th>\n",
              "      <th>valid_loss</th>\n",
              "      <th>time</th>\n",
              "    </tr>\n",
              "  </thead>\n",
              "  <tbody>\n",
              "    <tr>\n",
              "      <td>0</td>\n",
              "      <td>1.241384</td>\n",
              "      <td>1.280112</td>\n",
              "      <td>01:50</td>\n",
              "    </tr>\n",
              "  </tbody>\n",
              "</table>"
            ],
            "text/plain": [
              "<IPython.core.display.HTML object>"
            ]
          },
          "metadata": {
            "tags": []
          }
        },
        {
          "output_type": "display_data",
          "data": {
            "text/html": [
              "\n",
              "    <div>\n",
              "        <style>\n",
              "            /* Turns off some styling */\n",
              "            progress {\n",
              "                /* gets rid of default border in Firefox and Opera. */\n",
              "                border: none;\n",
              "                /* Needs to be in here for Safari polyfill so background images work as expected. */\n",
              "                background-size: auto;\n",
              "            }\n",
              "            .progress-bar-interrupted, .progress-bar-interrupted::-webkit-progress-bar {\n",
              "                background: #F44336;\n",
              "            }\n",
              "        </style>\n",
              "      <progress value='30' class='' max='100' style='width:300px; height:20px; vertical-align: middle;'></progress>\n",
              "      30.00% [30/100 52:00<2:01:21]\n",
              "    </div>\n",
              "    \n",
              "<table border=\"1\" class=\"dataframe\">\n",
              "  <thead>\n",
              "    <tr style=\"text-align: left;\">\n",
              "      <th>epoch</th>\n",
              "      <th>train_loss</th>\n",
              "      <th>valid_loss</th>\n",
              "      <th>time</th>\n",
              "    </tr>\n",
              "  </thead>\n",
              "  <tbody>\n",
              "    <tr>\n",
              "      <td>0</td>\n",
              "      <td>1.050659</td>\n",
              "      <td>1.100794</td>\n",
              "      <td>01:50</td>\n",
              "    </tr>\n",
              "    <tr>\n",
              "      <td>1</td>\n",
              "      <td>1.016539</td>\n",
              "      <td>1.035111</td>\n",
              "      <td>01:49</td>\n",
              "    </tr>\n",
              "    <tr>\n",
              "      <td>2</td>\n",
              "      <td>0.953803</td>\n",
              "      <td>0.988333</td>\n",
              "      <td>01:47</td>\n",
              "    </tr>\n",
              "    <tr>\n",
              "      <td>3</td>\n",
              "      <td>0.924550</td>\n",
              "      <td>0.953305</td>\n",
              "      <td>01:45</td>\n",
              "    </tr>\n",
              "    <tr>\n",
              "      <td>4</td>\n",
              "      <td>0.883284</td>\n",
              "      <td>0.924744</td>\n",
              "      <td>01:46</td>\n",
              "    </tr>\n",
              "    <tr>\n",
              "      <td>5</td>\n",
              "      <td>0.828187</td>\n",
              "      <td>0.901885</td>\n",
              "      <td>01:45</td>\n",
              "    </tr>\n",
              "    <tr>\n",
              "      <td>6</td>\n",
              "      <td>0.856924</td>\n",
              "      <td>0.881540</td>\n",
              "      <td>01:44</td>\n",
              "    </tr>\n",
              "    <tr>\n",
              "      <td>7</td>\n",
              "      <td>0.843891</td>\n",
              "      <td>0.865028</td>\n",
              "      <td>01:41</td>\n",
              "    </tr>\n",
              "    <tr>\n",
              "      <td>8</td>\n",
              "      <td>0.802754</td>\n",
              "      <td>0.849447</td>\n",
              "      <td>01:42</td>\n",
              "    </tr>\n",
              "    <tr>\n",
              "      <td>9</td>\n",
              "      <td>0.791511</td>\n",
              "      <td>0.837701</td>\n",
              "      <td>01:42</td>\n",
              "    </tr>\n",
              "    <tr>\n",
              "      <td>10</td>\n",
              "      <td>0.793270</td>\n",
              "      <td>0.824275</td>\n",
              "      <td>01:41</td>\n",
              "    </tr>\n",
              "    <tr>\n",
              "      <td>11</td>\n",
              "      <td>0.743605</td>\n",
              "      <td>0.814268</td>\n",
              "      <td>01:41</td>\n",
              "    </tr>\n",
              "    <tr>\n",
              "      <td>12</td>\n",
              "      <td>0.716231</td>\n",
              "      <td>0.807716</td>\n",
              "      <td>01:42</td>\n",
              "    </tr>\n",
              "    <tr>\n",
              "      <td>13</td>\n",
              "      <td>0.743002</td>\n",
              "      <td>0.797576</td>\n",
              "      <td>01:42</td>\n",
              "    </tr>\n",
              "    <tr>\n",
              "      <td>14</td>\n",
              "      <td>0.742840</td>\n",
              "      <td>0.790424</td>\n",
              "      <td>01:42</td>\n",
              "    </tr>\n",
              "    <tr>\n",
              "      <td>15</td>\n",
              "      <td>0.703485</td>\n",
              "      <td>0.783359</td>\n",
              "      <td>01:42</td>\n",
              "    </tr>\n",
              "    <tr>\n",
              "      <td>16</td>\n",
              "      <td>0.723009</td>\n",
              "      <td>0.779634</td>\n",
              "      <td>01:42</td>\n",
              "    </tr>\n",
              "    <tr>\n",
              "      <td>17</td>\n",
              "      <td>0.682418</td>\n",
              "      <td>0.777111</td>\n",
              "      <td>01:42</td>\n",
              "    </tr>\n",
              "    <tr>\n",
              "      <td>18</td>\n",
              "      <td>0.656090</td>\n",
              "      <td>0.773773</td>\n",
              "      <td>01:43</td>\n",
              "    </tr>\n",
              "    <tr>\n",
              "      <td>19</td>\n",
              "      <td>0.671922</td>\n",
              "      <td>0.768681</td>\n",
              "      <td>01:42</td>\n",
              "    </tr>\n",
              "    <tr>\n",
              "      <td>20</td>\n",
              "      <td>0.643842</td>\n",
              "      <td>0.768519</td>\n",
              "      <td>01:42</td>\n",
              "    </tr>\n",
              "    <tr>\n",
              "      <td>21</td>\n",
              "      <td>0.621968</td>\n",
              "      <td>0.766670</td>\n",
              "      <td>01:42</td>\n",
              "    </tr>\n",
              "    <tr>\n",
              "      <td>22</td>\n",
              "      <td>0.586328</td>\n",
              "      <td>0.767082</td>\n",
              "      <td>01:42</td>\n",
              "    </tr>\n",
              "    <tr>\n",
              "      <td>23</td>\n",
              "      <td>0.588041</td>\n",
              "      <td>0.768049</td>\n",
              "      <td>01:42</td>\n",
              "    </tr>\n",
              "    <tr>\n",
              "      <td>24</td>\n",
              "      <td>0.555224</td>\n",
              "      <td>0.768770</td>\n",
              "      <td>01:42</td>\n",
              "    </tr>\n",
              "    <tr>\n",
              "      <td>25</td>\n",
              "      <td>0.573894</td>\n",
              "      <td>0.775219</td>\n",
              "      <td>01:46</td>\n",
              "    </tr>\n",
              "    <tr>\n",
              "      <td>26</td>\n",
              "      <td>0.511704</td>\n",
              "      <td>0.778899</td>\n",
              "      <td>01:46</td>\n",
              "    </tr>\n",
              "    <tr>\n",
              "      <td>27</td>\n",
              "      <td>0.541940</td>\n",
              "      <td>0.783249</td>\n",
              "      <td>01:45</td>\n",
              "    </tr>\n",
              "    <tr>\n",
              "      <td>28</td>\n",
              "      <td>0.529355</td>\n",
              "      <td>0.785097</td>\n",
              "      <td>01:45</td>\n",
              "    </tr>\n",
              "    <tr>\n",
              "      <td>29</td>\n",
              "      <td>0.498519</td>\n",
              "      <td>0.792693</td>\n",
              "      <td>01:43</td>\n",
              "    </tr>\n",
              "  </tbody>\n",
              "</table><p>\n",
              "\n",
              "    <div>\n",
              "        <style>\n",
              "            /* Turns off some styling */\n",
              "            progress {\n",
              "                /* gets rid of default border in Firefox and Opera. */\n",
              "                border: none;\n",
              "                /* Needs to be in here for Safari polyfill so background images work as expected. */\n",
              "                background-size: auto;\n",
              "            }\n",
              "            .progress-bar-interrupted, .progress-bar-interrupted::-webkit-progress-bar {\n",
              "                background: #F44336;\n",
              "            }\n",
              "        </style>\n",
              "      <progress value='936' class='' max='13277' style='width:300px; height:20px; vertical-align: middle;'></progress>\n",
              "      7.05% [936/13277 00:07<01:36 0.4473]\n",
              "    </div>\n",
              "    "
            ],
            "text/plain": [
              "<IPython.core.display.HTML object>"
            ]
          },
          "metadata": {
            "tags": []
          }
        }
      ]
    },
    {
      "cell_type": "code",
      "metadata": {
        "id": "TnBtAqTVLE9d",
        "colab": {
          "base_uri": "https://localhost:8080/"
        },
        "outputId": "c0162838-1f7b-472e-c7ed-746fa137c385"
      },
      "source": [
        "df.iloc[0]"
      ],
      "execution_count": null,
      "outputs": [
        {
          "output_type": "execute_result",
          "data": {
            "text/plain": [
              "userId                                                                                                                                                                                                                                                                                                                                1\n",
              "movieId                                                                                                                                                                                                                                                                                                                              31\n",
              "rating                                                                                                                                                                                                                                                                                                                              2.5\n",
              "timestamp                                                                                                                                                                                                                                                                                                                    1260759144\n",
              "adult                                                                                                                                                                                                                                                                                                                             False\n",
              "genres                                                                                                                                                                                                                                 [{'id': 16, 'name': 'Animation'}, {'id': 35, 'name': 'Comedy'}, {'id': 10751, 'name': 'Family'}]\n",
              "keywords     [{'id': 931, 'name': 'jealousy'}, {'id': 4290, 'name': 'toy'}, {'id': 5202, 'name': 'boy'}, {'id': 6054, 'name': 'friendship'}, {'id': 9713, 'name': 'friends'}, {'id': 9823, 'name': 'rivalry'}, {'id': 165503, 'name': 'boy next door'}, {'id': 170722, 'name': 'new toy'}, {'id': 187065, 'name': 'toy comes to life'}]\n",
              "Name: 0, dtype: object"
            ]
          },
          "metadata": {
            "tags": []
          },
          "execution_count": 36
        }
      ]
    },
    {
      "cell_type": "code",
      "metadata": {
        "id": "7shD-im-KMd4",
        "colab": {
          "base_uri": "https://localhost:8080/",
          "height": 328
        },
        "outputId": "78d5e194-941d-4c94-f895-f7b0ee0747ca"
      },
      "source": [
        "learn.show_results()"
      ],
      "execution_count": null,
      "outputs": [
        {
          "output_type": "display_data",
          "data": {
            "text/html": [
              ""
            ],
            "text/plain": [
              "<IPython.core.display.HTML object>"
            ]
          },
          "metadata": {
            "tags": []
          }
        },
        {
          "output_type": "display_data",
          "data": {
            "text/html": [
              "<table border=\"1\" class=\"dataframe\">\n",
              "  <thead>\n",
              "    <tr style=\"text-align: right;\">\n",
              "      <th></th>\n",
              "      <th>userId</th>\n",
              "      <th>movieId</th>\n",
              "      <th>rating</th>\n",
              "      <th>rating_pred</th>\n",
              "    </tr>\n",
              "  </thead>\n",
              "  <tbody>\n",
              "    <tr>\n",
              "      <th>0</th>\n",
              "      <td>93.0</td>\n",
              "      <td>714.0</td>\n",
              "      <td>4.0</td>\n",
              "      <td>3.427761</td>\n",
              "    </tr>\n",
              "    <tr>\n",
              "      <th>1</th>\n",
              "      <td>605.0</td>\n",
              "      <td>2785.0</td>\n",
              "      <td>4.0</td>\n",
              "      <td>2.674973</td>\n",
              "    </tr>\n",
              "    <tr>\n",
              "      <th>2</th>\n",
              "      <td>509.0</td>\n",
              "      <td>5796.0</td>\n",
              "      <td>4.5</td>\n",
              "      <td>3.037971</td>\n",
              "    </tr>\n",
              "    <tr>\n",
              "      <th>3</th>\n",
              "      <td>355.0</td>\n",
              "      <td>4336.0</td>\n",
              "      <td>4.0</td>\n",
              "      <td>3.897591</td>\n",
              "    </tr>\n",
              "    <tr>\n",
              "      <th>4</th>\n",
              "      <td>380.0</td>\n",
              "      <td>0.0</td>\n",
              "      <td>3.0</td>\n",
              "      <td>1.301009</td>\n",
              "    </tr>\n",
              "    <tr>\n",
              "      <th>5</th>\n",
              "      <td>615.0</td>\n",
              "      <td>2113.0</td>\n",
              "      <td>1.5</td>\n",
              "      <td>2.498374</td>\n",
              "    </tr>\n",
              "    <tr>\n",
              "      <th>6</th>\n",
              "      <td>132.0</td>\n",
              "      <td>0.0</td>\n",
              "      <td>4.0</td>\n",
              "      <td>0.662274</td>\n",
              "    </tr>\n",
              "    <tr>\n",
              "      <th>7</th>\n",
              "      <td>554.0</td>\n",
              "      <td>1057.0</td>\n",
              "      <td>4.0</td>\n",
              "      <td>4.089298</td>\n",
              "    </tr>\n",
              "    <tr>\n",
              "      <th>8</th>\n",
              "      <td>316.0</td>\n",
              "      <td>0.0</td>\n",
              "      <td>3.5</td>\n",
              "      <td>0.487456</td>\n",
              "    </tr>\n",
              "  </tbody>\n",
              "</table>"
            ],
            "text/plain": [
              "<IPython.core.display.HTML object>"
            ]
          },
          "metadata": {
            "tags": []
          }
        }
      ]
    },
    {
      "cell_type": "code",
      "metadata": {
        "id": "3VDxywvfN_N1"
      },
      "source": [
        "learn.export('ratings_model.pkl')"
      ],
      "execution_count": null,
      "outputs": []
    },
    {
      "cell_type": "code",
      "metadata": {
        "id": "_kHqAh2dqUR_"
      },
      "source": [
        "learn = load_learner('ratings_model.pkl')"
      ],
      "execution_count": null,
      "outputs": []
    },
    {
      "cell_type": "code",
      "metadata": {
        "id": "lG-S_GJjvgIW"
      },
      "source": [
        "def predict(userId, movieId):\n",
        "  return learn.model(tensor([[userId, movieId]]))"
      ],
      "execution_count": null,
      "outputs": []
    },
    {
      "cell_type": "code",
      "metadata": {
        "colab": {
          "base_uri": "https://localhost:8080/"
        },
        "id": "O1XJrBJiwAg1",
        "outputId": "cb26baf6-ca3f-4ad6-f314-63fe8401b80a"
      },
      "source": [
        "predict(94,714)"
      ],
      "execution_count": null,
      "outputs": [
        {
          "output_type": "execute_result",
          "data": {
            "text/plain": [
              "tensor([3.5384], grad_fn=<AddBackward0>)"
            ]
          },
          "metadata": {
            "tags": []
          },
          "execution_count": 18
        }
      ]
    }
  ]
}